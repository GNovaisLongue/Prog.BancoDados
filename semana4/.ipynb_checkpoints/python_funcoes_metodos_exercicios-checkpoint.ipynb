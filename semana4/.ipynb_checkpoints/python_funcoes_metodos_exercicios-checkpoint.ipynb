{
 "cells": [
  {
   "cell_type": "markdown",
   "metadata": {},
   "source": [
    "1 \n",
    "Menor de dois pares: Escreva uma função que retorne o menor de dois números\n",
    "dados se ambos os números forem pares, mas retorna o maior se um dos dois for\n",
    "ímpar. Exemplo:\n",
    "\n",
    "menor_de_dois_pares(2,4) --> 2\n",
    "\n",
    "menor_de_dois_pares (2,5) --> 5"
   ]
  },
  {
   "cell_type": "code",
   "execution_count": 1,
   "metadata": {},
   "outputs": [
    {
     "name": "stdout",
     "output_type": "stream",
     "text": [
      "2\n",
      "5\n"
     ]
    }
   ],
   "source": [
    "def menor_de_dois_pares(val1,val2):\n",
    "    \n",
    "    def par(valor):\n",
    "        return (valor % 2 == 0)\n",
    "        \n",
    "    def menor_no_par(val1,val2):\n",
    "        return val1 if val1 < val2 else val2\n",
    "    \n",
    "    def maior_no_par(val1,val2):\n",
    "        return val1 if val1 > val2 else val2\n",
    "    \n",
    "    #verificar se são par ou impar\n",
    "    return menor_no_par(val1,val2) if par(val1) == par(val2) else maior_no_par(val1,val2)\n",
    "    \n",
    "print(menor_de_dois_pares(2,4))\n",
    "print(menor_de_dois_pares(5,2))"
   ]
  },
  {
   "cell_type": "markdown",
   "metadata": {},
   "source": [
    "2 \n",
    "Mestre Yoda: Dada uma sentença, a função deve retornar a sentença com as\n",
    "palavras na ordem reversa.\n",
    "Exemplo:\n",
    "\n",
    "mestre_yoda('Eu estou em casa') --> 'casa em estou Eu'\n",
    "\n",
    "mestre_yoda('Estamos prontos') --> 'prontos Estamos'"
   ]
  },
  {
   "cell_type": "code",
   "execution_count": 2,
   "metadata": {},
   "outputs": [
    {
     "name": "stdout",
     "output_type": "stream",
     "text": [
      "casa em estou Eu\n",
      "prontos Estamos\n"
     ]
    }
   ],
   "source": [
    "def mestre_yoda(string):\n",
    "    espaco = ' '\n",
    "    yoda = string.split(\" \")#separar depois de cada espaço em branco\n",
    "    yoda.reverse()\n",
    "    print(espaco.join(yoda))\n",
    "\n",
    "mestre_yoda('Eu estou em casa')\n",
    "mestre_yoda('Estamos prontos')"
   ]
  },
  {
   "cell_type": "markdown",
   "metadata": {},
   "source": [
    "3 Blackjack: Faça uma função que receba 3 inteiros entre 1 e 11. Se a soma deles for\n",
    "menor que 21, retorne o valor da soma. Se for maior do que 21 e houver um 11,\n",
    "subtraia 10 da soma antes de apresentar o resultado. Se o valor da soma passar de\n",
    "21, retorne ‘ESTOUROU’. Exemplo:\n",
    "\n",
    "blackjack(5,6,7) --> 18\n",
    "\n",
    "blackjack(9,9,9) --> 'ESTOUROU'\n",
    "\n",
    "blackjack(9,9,11) --> 19"
   ]
  },
  {
   "cell_type": "code",
   "execution_count": 3,
   "metadata": {
    "scrolled": true
   },
   "outputs": [
    {
     "name": "stdout",
     "output_type": "stream",
     "text": [
      "18\n",
      "ESTOUROU\n",
      "19\n"
     ]
    }
   ],
   "source": [
    "def blackjack(val1,val2,val3):\n",
    "    soma = val1+val2+val3\n",
    "#     onze = [11]\n",
    "    if 11 in {val1,val2,val3}:\n",
    "        return soma - 10\n",
    "    return soma if soma <= 21 else 'ESTOUROU'\n",
    "    \n",
    "print(blackjack(5,6,7))\n",
    "print(blackjack(9,9,9))\n",
    "print(blackjack(9,9,11))"
   ]
  },
  {
   "cell_type": "markdown",
   "metadata": {},
   "source": [
    "1 Espião: Escreva uma função que receba uma lista de\n",
    "inteiros e retorne True se contém um 007 em ordem, mesmo\n",
    "que não contínuo. Exemplo:\n",
    "\n",
    "espiao([1,2,4,0,0,7,5]) --> True\n",
    "espiao([1,0,2,4,0,5,7]) --> True\n",
    "espiao([1,7,2,4,0,5,0]) --> False\n"
   ]
  },
  {
   "cell_type": "code",
   "execution_count": 4,
   "metadata": {},
   "outputs": [],
   "source": [
    "lista = []\n",
    "\n",
    "def lista_input(lista):\n",
    "    lista.clear()\n",
    "    i = 0\n",
    "    limite_saida = int(input(\"insira um valor inteiro para o tamanho do vetor:\\n\"))\n",
    "    while i < limite_saida:\n",
    "        var= int(input(\"Entre com um numero inteiro: \\n\"))\n",
    "        lista.append(var)\n",
    "        i+=1\n",
    "    return lista"
   ]
  },
  {
   "cell_type": "code",
   "execution_count": 5,
   "metadata": {},
   "outputs": [
    {
     "name": "stdout",
     "output_type": "stream",
     "text": [
      "insira um valor inteiro para o tamanho do vetor:\n",
      "7\n",
      "Entre com um numero inteiro: \n",
      "1\n",
      "Entre com um numero inteiro: \n",
      "0\n",
      "Entre com um numero inteiro: \n",
      "2\n",
      "Entre com um numero inteiro: \n",
      "4\n",
      "Entre com um numero inteiro: \n",
      "0\n",
      "Entre com um numero inteiro: \n",
      "7\n",
      "Entre com um numero inteiro: \n",
      "7\n",
      "Lista:  [1, 0, 2, 4, 0, 7, 7] \n",
      "\n",
      "True\n"
     ]
    }
   ],
   "source": [
    "\n",
    "def espiao(lista):\n",
    "    bond = [x for x in lista if x in [0,7]] #joga todos os o e 7 para uma variavel\n",
    "    seq = [0,0,7]\n",
    "#     if str(seq) in str(bond): #[0, 0, 7] errado\n",
    "    if str(seq)[1:-1] in str(bond): #0, 0, 7 \n",
    "        return True\n",
    "    return False\n",
    "\n",
    "print(\"Lista: \",lista_input(lista),\"\\n\")\n",
    "print(espiao(lista))"
   ]
  },
  {
   "cell_type": "markdown",
   "metadata": {},
   "source": [
    "2 Tem 33: Faça uma função que retorne True se, dada uma lista de inteiros, houver\n",
    "em alguma posição da lista um 3 do lado de outro 3. Exemplo:\n",
    "\n",
    "tem_33([1,3,3]) --> True\n",
    "tem_33([1,3,1,3]) --> False\n",
    "tem_33([3,1,3]) --> False"
   ]
  },
  {
   "cell_type": "code",
   "execution_count": 7,
   "metadata": {},
   "outputs": [
    {
     "name": "stdout",
     "output_type": "stream",
     "text": [
      "insira um valor inteiro para o tamanho do vetor:\n",
      "5\n",
      "Entre com um numero inteiro: \n",
      "3\n",
      "Entre com um numero inteiro: \n",
      "1\n",
      "Entre com um numero inteiro: \n",
      "3\n",
      "Entre com um numero inteiro: \n",
      "3\n",
      "Entre com um numero inteiro: \n",
      "1\n",
      "Lista:  [3, 1, 3, 3, 1] \n",
      "\n",
      "3 seguido de 3\n",
      "True\n"
     ]
    }
   ],
   "source": [
    "# lista = []\n",
    "\n",
    "# def lista_input(lista, limite_saida):\n",
    "#     i = 0\n",
    "#     while i < limite_saida:\n",
    "#         var= int(input(\"Entre com um numero inteiro: \\n\"))\n",
    "#         lista.append(var)\n",
    "#         i+=1\n",
    "#     return lista\n",
    "\n",
    "#https://stackoverflow.com/questions/40255096/next-in-generators-and-iterators-and-what-is-a-method-wrapper\n",
    "\n",
    "def tem_33(lista):\n",
    "    cade_33=0\n",
    "    list_iterator = iter(lista) # this just calls `lst.__iter__()`\n",
    "    while True:\n",
    "        try:\n",
    "            item = next(list_iterator) # lst_iterator.__next__()\n",
    "            if item == 3:\n",
    "                cade_33 = item\n",
    "#                 print(\"primeiro 3\")\n",
    "                if cade_33 == (list_iterator.__next__()):\n",
    "                    print(\"3 seguido de 3\")\n",
    "                    return True\n",
    "        except StopIteration:\n",
    "            return not True\n",
    "\n",
    "print(\"Lista: \",lista_input(lista),\"\\n\")\n",
    "print(tem_33(lista))"
   ]
  },
  {
   "cell_type": "code",
   "execution_count": null,
   "metadata": {},
   "outputs": [],
   "source": []
  }
 ],
 "metadata": {
  "kernelspec": {
   "display_name": "Python 3",
   "language": "python",
   "name": "python3"
  },
  "language_info": {
   "codemirror_mode": {
    "name": "ipython",
    "version": 3
   },
   "file_extension": ".py",
   "mimetype": "text/x-python",
   "name": "python",
   "nbconvert_exporter": "python",
   "pygments_lexer": "ipython3",
   "version": "3.7.4"
  }
 },
 "nbformat": 4,
 "nbformat_minor": 2
}
