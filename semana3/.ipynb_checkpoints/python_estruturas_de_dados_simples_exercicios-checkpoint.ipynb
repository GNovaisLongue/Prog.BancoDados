{
 "cells": [
  {
   "cell_type": "markdown",
   "metadata": {},
   "source": [
    "Lista\n",
    "\n",
    "1 Faça um programa que decide se duas listas são iguais. Duas listas são iguais se\n",
    "possuem os mesmos valores e na mesma ordem.\n",
    "\n",
    "2 Faça um programa que percorre uma lista com o seguinte formato: [['Brasil', 'Italia',\n",
    "[10, 9]], ['Brasil', 'Espanha', [5, 7]], ['Italia', 'Espanha', [7,8]]]. Essa lista indica o\n",
    "número de faltas que cada time fez em cada jogo. Na lista acima, no jogo entre Brasil\n",
    "e Itália, o Brasil fez 10 faltas e a Itália fez 9.\n",
    "O programa deve imprimir na tela:\n",
    "- o total de faltas do campeonato\n",
    "- o time que fez mais faltas\n",
    "- o time que fez menos faltas"
   ]
  },
  {
   "cell_type": "code",
   "execution_count": 3,
   "metadata": {},
   "outputs": [
    {
     "name": "stdout",
     "output_type": "stream",
     "text": [
      "Listas do mesmo tamanho\n",
      "Listas não possuem valores na mesma ordem\n",
      "Listas não são iguais\n"
     ]
    }
   ],
   "source": [
    "listaA = [0, 1, 2, 3, 4, 5, 6, 7, 8, 9]\n",
    "listaB = [9, 2, 4, 5, 1, 3, 8, 7, 6, 0]#[0, 1, 2, 3, 4, 5, 6, 7, 8, 9]\n",
    "def comparar(listaA,listaB):\n",
    "    igual=1\n",
    "    x=0\n",
    "    while x < len(listaB) and igual == 1:\n",
    "        if listaA[x] != listaB[x]:\n",
    "            print(\"Listas não possuem valores na mesma ordem\")\n",
    "            igual=0\n",
    "        else:\n",
    "            print(f\"Valor {x} na mesma ordem\")\n",
    "            x += 1\n",
    "    return igual\n",
    "    \n",
    "#------------------------------------------------------------------------        \n",
    "if len(listaA) == len(listaB):\n",
    "    print (\"Listas do mesmo tamanho\")\n",
    "    if comparar(listaA,listaB):\n",
    "        print(\"Listas possuem mesmos valores e na mesma ordem\")\n",
    "    else:\n",
    "        print(\"Listas não são iguais\")\n",
    "else:\n",
    "    print(\"Listas não possuem mesmo tamanho\")\n",
    "\n",
    "\n",
    "        "
   ]
  },
  {
   "cell_type": "code",
   "execution_count": 4,
   "metadata": {},
   "outputs": [
    {
     "name": "stdout",
     "output_type": "stream",
     "text": [
      "Total de faltas: 46\n"
     ]
    }
   ],
   "source": [
    "listaCampeonato = [ ['Brasil', 'Italia',[10, 9]], ['Brasil', 'Espanha', [5, 7]], ['Italia', 'Espanha', [7,8]] ]\n",
    "totalFaltas = 0\n",
    "faltas = [y[2] for y in listaCampeonato[:]] #[[10, 9], [5, 7], [7, 8]] elemento 2 dentro da primeira 'sub_lista' de listaCampeonato\n",
    "\n",
    "ListaTotalFaltas=[y for x in faltas[:] for y in x[:]] #[10, 9, 5, 7, 7, 8]\n",
    "\n",
    "for x in ListaTotalFaltas:\n",
    "    totalFaltas += x\n",
    "print(f\"Total de faltas: {totalFaltas}\") #46\n",
    "\n",
    "#print(f\"time com mais faltas: {}\")"
   ]
  },
  {
   "cell_type": "code",
   "execution_count": 5,
   "metadata": {},
   "outputs": [
    {
     "name": "stdout",
     "output_type": "stream",
     "text": [
      "Brasil recebeu 10\n",
      "Italia recebeu 9\n",
      "Brasil recebeu 5\n",
      "Espanha recebeu 7\n",
      "Italia recebeu 7\n",
      "Espanha recebeu 8\n",
      "{'Brasil': 15, 'Italia': 16, 'Espanha': 15}\n"
     ]
    }
   ],
   "source": [
    "dict_maisFaltas = {'Brasil': 0, 'Italia': 0, 'Espanha': 0}\n",
    "\n",
    "paises = [y[:2] for y in listaCampeonato[:]]\n",
    "#print (paises) #[['Brasil', 'Italia'], ['Brasil', 'Espanha'], ['Italia', 'Espanha']]\n",
    "\n",
    "#[ y[1] for x in list for y in x ]\n",
    "falta=0\n",
    "for dupla in listaCampeonato[0:3]:\n",
    "    for pais in dupla[0:2]:\n",
    "        if pais in ['Brasil','Italia','Espanha']:\n",
    "            #adiciona a falta para o pais\n",
    "            print(f\"{pais} recebeu {ListaTotalFaltas[falta]}\")\n",
    "            \n",
    "            dict_maisFaltas[pais]+= ListaTotalFaltas[falta]\n",
    "            falta+=1\n",
    "print (dict_maisFaltas)"
   ]
  },
  {
   "cell_type": "code",
   "execution_count": 6,
   "metadata": {},
   "outputs": [
    {
     "name": "stdout",
     "output_type": "stream",
     "text": [
      "Time com mais faltas: Italia\n",
      "Time com menos faltas: Brasil\n"
     ]
    }
   ],
   "source": [
    "print(\"Time com mais faltas:\",max(dict_maisFaltas, key=dict_maisFaltas.get))\n",
    "\n",
    "print(\"Time com menos faltas:\",min(dict_maisFaltas, key=dict_maisFaltas.get))"
   ]
  },
  {
   "cell_type": "markdown",
   "metadata": {},
   "source": [
    "Dicionario\n",
    "\n",
    "1 Escreva um programa que lê̂ duas notas de vários alunos e armazena tais notas em\n",
    "um dicionário, em que a chave é o nome do aluno. A entrada de dados deve terminar\n",
    "quando for lida uma string vazia como nome. A seguir, faça um loop que pede o nome\n",
    "do aluno e mostra sua média.\n"
   ]
  },
  {
   "cell_type": "code",
   "execution_count": 2,
   "metadata": {},
   "outputs": [
    {
     "name": "stdout",
     "output_type": "stream",
     "text": [
      "Insira o nome do aluno: (não inserir nada para terminar sessão) \n",
      "Campo deixado em branco\n",
      "{}\n"
     ]
    }
   ],
   "source": [
    "dict_alunos={}\n",
    "while True:\n",
    "    val_inserido = input(\"Insira o nome do aluno: (não inserir nada para terminar sessão) \")   \n",
    "    if not val_inserido:\n",
    "        print(\"Campo deixado em branco\")\n",
    "        break\n",
    "    else:\n",
    "        nome = val_inserido\n",
    "        n1 = input(\"Insira sua nota 1: \")\n",
    "        n2 = input(\"Insira sua nota 2: \")\n",
    "        dict_alunos[nome]=(n1, n2)\n",
    "\n",
    "print(dict_alunos)\n"
   ]
  },
  {
   "cell_type": "markdown",
   "metadata": {},
   "source": [
    "2 Uma pista de Kart permite 10 voltas para cada um de 6 corredores. Escreva um\n",
    "programa que leia todos os tempos em segundos e os guarde em um dicionário, em que\n",
    "a chave é o nome do corredor. Ao final diga de quem foi a melhor volta da prova e em\n",
    "que volta; e ainda a classificação final em ordem (1o o campeão). O campeão é o que\n",
    "tem a menor média de tempos."
   ]
  },
  {
   "cell_type": "code",
   "execution_count": 43,
   "metadata": {},
   "outputs": [
    {
     "name": "stdout",
     "output_type": "stream",
     "text": [
      "Insira o nome do corredor: (não inserir nada para terminar sessão) berg\n",
      "Insira sua volta 1 de 3: 1\n",
      "Insira sua volta 2 de 3: 2\n",
      "Insira sua volta 3 de 3: 3\n",
      "Dados inseridos no dicionario.\n",
      "\n",
      "Insira o nome do corredor: (não inserir nada para terminar sessão) dasd\n",
      "Insira sua volta 1 de 3: 5\n",
      "Insira sua volta 2 de 3: 4\n",
      "Insira sua volta 3 de 3: 1\n",
      "Dados inseridos no dicionario.\n",
      "\n",
      "Insira o nome do corredor: (não inserir nada para terminar sessão) dawe\n",
      "Insira sua volta 1 de 3: 1\n",
      "Insira sua volta 2 de 3: 2\n",
      "Insira sua volta 3 de 3: 4\n",
      "Dados inseridos no dicionario.\n",
      "\n",
      "Insira o nome do corredor: (não inserir nada para terminar sessão) \n",
      "Campo deixado em branco. Fim da sessão\n",
      "\n",
      "Dicionario\n",
      "berg: [1, 2, 3]\n",
      "dasd: [5, 4, 1]\n",
      "dawe: [1, 2, 4]\n"
     ]
    }
   ],
   "source": [
    "dict_corredores={}\n",
    "voltas=[]\n",
    "num_voltas = 3\n",
    "def melhortempo(dictionary):\n",
    "    for x in dictionary:\n",
    "        print(dictionary[x])\n",
    "    return x\n",
    "\n",
    "while True:\n",
    "    #checagem nome do corredor\n",
    "    val_inserido = input(\"Insira o nome do corredor: (não inserir nada para terminar sessão) \")   \n",
    "    if not val_inserido:\n",
    "        print(\"Campo deixado em branco. Fim da sessão\")\n",
    "        break\n",
    "    else:\n",
    "        #caso o vetor já tenha sido usado, remover conteudo nele\n",
    "        if len(voltas)>=1:\n",
    "            voltas.clear()\n",
    "        nome = val_inserido\n",
    "        for x in range(num_voltas): #inserir tempo de cada volta\n",
    "            tempo = int(input(f\"Insira sua volta {x+1} de {num_voltas}: \"))\n",
    "            voltas.append(tempo) # 'push' \n",
    "        #inserir 'tempo' em lista e lista em dicionario\n",
    "        dict_corredores[nome]=[x for x in voltas]\n",
    "        print(\"Dados inseridos no dicionario.\\n\")\n",
    "        \n",
    "#mostrar dicionario\n",
    "print(\"\\nDicionario\")\n",
    "for x in dict_corredores:#'nome': [tempos inseridos]\n",
    "    print(\"{}: {}\".format(x, dict_corredores[x]))\n"
   ]
  },
  {
   "cell_type": "code",
   "execution_count": 44,
   "metadata": {},
   "outputs": [
    {
     "name": "stdout",
     "output_type": "stream",
     "text": [
      "{'berg': [1, 2, 3], 'dasd': [5, 4, 1], 'dawe': [1, 2, 4]}\n"
     ]
    }
   ],
   "source": [
    "print(dict_corredores)\n",
    "    "
   ]
  },
  {
   "cell_type": "code",
   "execution_count": 47,
   "metadata": {},
   "outputs": [
    {
     "name": "stdout",
     "output_type": "stream",
     "text": [
      "media:  2.0\n",
      "soma:  6\n",
      "media:  3.3333333333333335\n",
      "soma:  10\n",
      "media:  2.3333333333333335\n",
      "soma:  7\n"
     ]
    }
   ],
   "source": [
    "melhorTempo = 0\n",
    "for x in dict_corredores:\n",
    "    #media\n",
    "    mediaVoltas = (sum(dict_corredores[x])/num_voltas)\n",
    "    print(\"media: \",mediaVoltas)\n",
    "    #soma\n",
    "    somaVoltas = sum(dict_corredores[x])\n",
    "    print(\"soma: \",somaVoltas)\n",
    "    if mediaVoltas >= melhorTempo:\n",
    "        melhorTempo=mediaVoltas\n",
    "#         melhorCorredor="
   ]
  },
  {
   "cell_type": "code",
   "execution_count": null,
   "metadata": {},
   "outputs": [],
   "source": []
  }
 ],
 "metadata": {
  "kernelspec": {
   "display_name": "Python 3",
   "language": "python",
   "name": "python3"
  },
  "language_info": {
   "codemirror_mode": {
    "name": "ipython",
    "version": 3
   },
   "file_extension": ".py",
   "mimetype": "text/x-python",
   "name": "python",
   "nbconvert_exporter": "python",
   "pygments_lexer": "ipython3",
   "version": "3.7.4"
  }
 },
 "nbformat": 4,
 "nbformat_minor": 2
}
